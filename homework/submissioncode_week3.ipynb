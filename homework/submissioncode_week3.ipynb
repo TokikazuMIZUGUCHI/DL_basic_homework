{
  "nbformat": 4,
  "nbformat_minor": 0,
  "metadata": {
    "colab": {
      "provenance": []
    },
    "kernelspec": {
      "display_name": "Python 3",
      "language": "python",
      "name": "python3"
    },
    "language_info": {
      "codemirror_mode": {
        "name": "ipython",
        "version": 3
      },
      "file_extension": ".py",
      "mimetype": "text/x-python",
      "name": "python",
      "nbconvert_exporter": "python",
      "pygments_lexer": "ipython3",
      "version": "3.6.2"
    },
    "gpuClass": "standard"
  },
  "cells": [
    {
      "cell_type": "markdown",
      "metadata": {
        "id": "MUWcdth_khfN"
      },
      "source": [
        "# 第3回講義 宿題"
      ]
    },
    {
      "cell_type": "markdown",
      "metadata": {
        "id": "gAjuP7I4lWyn"
      },
      "source": [
        "## 課題\n",
        "\n",
        "今Lessonで学んだことを元に，MNISTのファッション版 (Fashion MNIST，クラス数10) を多層パーセプトロンによって分類してみましょう．\n",
        "\n",
        "Fashion MNISTの詳細については以下のリンクを参考にしてください．\n",
        "\n",
        "Fashion MNIST: https://github.com/zalandoresearch/fashion-mnist"
      ]
    },
    {
      "cell_type": "markdown",
      "metadata": {
        "id": "Cpiz19GRlZ_9"
      },
      "source": [
        "### 目標値\n",
        "\n",
        "Accuracy 85%"
      ]
    },
    {
      "cell_type": "markdown",
      "metadata": {
        "id": "qSHeI_utleEN"
      },
      "source": [
        "### ルール\n",
        "\n",
        "- 訓練データはx_train， t_train，テストデータはx_testで与えられます．\n",
        "- 予測ラベルは one_hot表現ではなく0~9のクラスラベル で表してください．\n",
        "- **下のセルで指定されているx_train，t_train以外の学習データは使わないでください．**\n",
        "- **多層パーセプトロンのアルゴリズム部分は第3回の演習を参考に，NumPyのみで実装してください．** (sklearnやtensorflowなどは使用しないでください)．\n",
        "    - データの前処理部分でsklearnの関数を使う (例えば sklearn.model_selection.train_test_split) のは問題ありません．"
      ]
    },
    {
      "cell_type": "markdown",
      "metadata": {
        "id": "diuec-_YluI6"
      },
      "source": [
        "### 提出方法\n",
        "\n",
        "- 2つのファイルを提出していただきます．\n",
        "  - テストデータ (x_test) に対する予測ラベルをcsvファイル (ファイル名: submission_pred.csv) で提出してください．\n",
        "  - それに対応するpythonのコードをsubmission_code.pyとして提出してください (%%writefileコマンドなどを利用してください)．"
      ]
    },
    {
      "cell_type": "markdown",
      "metadata": {
        "id": "hofSzJsVlvKp"
      },
      "source": [
        "### 評価方法\n",
        "\n",
        "- 予測ラベルのt_testに対する精度 (Accuracy) で評価します．\n",
        "- 提出後即時採点を行い，Leader Boardが更新されます．\n",
        "- 締切後の点数を最終的な評価とします．"
      ]
    },
    {
      "cell_type": "code",
      "source": [
        "# ドライブのマウント\n",
        "from google.colab import drive\n",
        "drive.mount('/content/drive')"
      ],
      "metadata": {
        "id": "bxtkyWpYv07M",
        "colab": {
          "base_uri": "https://localhost:8080/"
        },
        "outputId": "11e6a4db-5080-44f9-ef85-32d87850d512"
      },
      "execution_count": null,
      "outputs": [
        {
          "output_type": "stream",
          "name": "stdout",
          "text": [
            "Drive already mounted at /content/drive; to attempt to forcibly remount, call drive.mount(\"/content/drive\", force_remount=True).\n"
          ]
        }
      ]
    },
    {
      "cell_type": "markdown",
      "metadata": {
        "id": "Cu4cmQtelx19"
      },
      "source": [
        "### データの読み込み\n",
        "\n",
        "- この部分は修正しないでください"
      ]
    },
    {
      "cell_type": "code",
      "metadata": {
        "id": "EsLDDSUJkRx-"
      },
      "source": [
        "import os\n",
        "import numpy as np\n",
        "import pandas as pd\n",
        "from sklearn.utils import shuffle\n",
        "from sklearn.metrics import accuracy_score\n",
        "from sklearn.model_selection import train_test_split\n",
        "import inspect\n",
        "\n",
        "\n",
        "#学習データ\n",
        "x_train = np.load('drive/MyDrive/Colab Notebooks/DLBasics2023_colab/Lecture03/data/x_train.npy')\n",
        "t_train = np.load('drive/MyDrive/Colab Notebooks/DLBasics2023_colab/Lecture03/data/y_train.npy')\n",
        "    \n",
        "#テストデータ\n",
        "x_test = np.load('drive/MyDrive/Colab Notebooks/DLBasics2023_colab/Lecture03/data/x_test.npy')\n",
        "\n",
        "# データの前処理（正規化， one-hot encoding)\n",
        "x_train, x_test = x_train / 255., x_test / 255.\n",
        "x_train, x_test = x_train.reshape(x_train.shape[0], -1), x_test.reshape(x_test.shape[0], -1)\n",
        "t_train = np.eye(N=10)[t_train.astype(\"int32\").flatten()]"
      ],
      "execution_count": null,
      "outputs": []
    },
    {
      "cell_type": "markdown",
      "metadata": {
        "id": "UrSpHDIWOfK_"
      },
      "source": [
        "### 多層パーセプトロンの実装"
      ]
    },
    {
      "cell_type": "code",
      "metadata": {
        "id": "sKAe0F36nSvU"
      },
      "source": [
        "# データの分割\n",
        "x_train, x_val, t_train, t_val =\\\n",
        "    train_test_split(x_train, t_train, test_size=10000)"
      ],
      "execution_count": null,
      "outputs": []
    },
    {
      "cell_type": "code",
      "source": [
        "def np_log(x):\n",
        "    return np.log(np.clip(x, 1e-10, 1e+10))\n",
        "\n",
        "\n",
        "def create_batch(data, batch_size):\n",
        "    \"\"\"\n",
        "    :param data: np.ndarray，入力データ\n",
        "    :param batch_size: int，バッチサイズ\n",
        "    \"\"\"\n",
        "    num_batches, mod = divmod(data.shape[0], batch_size)\n",
        "    batched_data = np.split(data[: batch_size * num_batches], num_batches)\n",
        "    if mod:\n",
        "        batched_data.append(data[batch_size * num_batches:])\n",
        "\n",
        "    return batched_data"
      ],
      "metadata": {
        "id": "IlzwRoG5X7ZP"
      },
      "execution_count": null,
      "outputs": []
    },
    {
      "cell_type": "code",
      "source": [
        "# シード値を変えることで何が起きるかも確かめてみてください．\n",
        "rng = np.random.RandomState(1234)\n",
        "random_state = 42\n",
        "\n",
        "\n",
        "# 発展: 今回の講義で扱っていない活性化関数について調べ，実装してみましょう\n",
        "def relu(x):\n",
        "    return np.maximum(x, 0)\n",
        "\n",
        "def deriv_relu(x):\n",
        "    return (x > 0).astype(x.dtype)\n",
        "  \n",
        "class PReLU:\n",
        "    def __init__(self, alpha=0.01):\n",
        "        self.alpha = alpha\n",
        "\n",
        "    def __call__(self, x):\n",
        "        return np.where(x >= 0, x, self.alpha * x)\n",
        "\n",
        "    def deriv(self, x):\n",
        "        return np.where(x >= 0, 1, self.alpha)\n",
        "\n",
        "def tanh(x):\n",
        "    return np.tanh(x)\n",
        "\n",
        "def deriv_tanh(x):\n",
        "    return 1 - np.tanh(x)**2\n",
        "\n",
        "def softmax(x):\n",
        "    x -= x.max(axis=1, keepdims=True)  # オーバーフローを避ける\n",
        "    x_exp = np.exp(x)\n",
        "    return x_exp / np.sum(x_exp, axis=1, keepdims=True)\n",
        "\n",
        "\n",
        "def deriv_softmax(x):\n",
        "    return softmax(x) * (1 - softmax(x))\n",
        "\n",
        "\n",
        "def crossentropy_loss(t, y):\n",
        "    return (-t * np_log(y)).sum(axis=1).mean()\n",
        "\n",
        "\n",
        "class Dense:\n",
        "    def __init__(self, in_dim, out_dim, function, deriv_function):\n",
        "        self.W = np.random.uniform(low=-0.08, high=0.08,\n",
        "                                   size=(in_dim, out_dim)).astype(\"float64\")\n",
        "        self.b = np.zeros(out_dim).astype(\"float64\")\n",
        "        self.function = function\n",
        "        self.deriv_function = deriv_function\n",
        "\n",
        "        self.x = None\n",
        "        self.u = None\n",
        "\n",
        "        self.dW = None\n",
        "        self.db = None\n",
        "\n",
        "        self.params_idxs = np.cumsum([self.W.size, self.b.size])\n",
        "\n",
        "    def __call__(self, x):\n",
        "        \"\"\"\n",
        "        順伝播処理を行うメソッド．\n",
        "        x: shape=(batch_size, in_dim_{j})\n",
        "        h: shape=(batch_size, out_dim_{j})\n",
        "        \"\"\"\n",
        "        self.x = x\n",
        "        self.u = np.matmul(self.x, self.W) + self.b\n",
        "        h = self.function(self.u)\n",
        "        return h\n",
        "\n",
        "    def b_prop(self, delta, W):\n",
        "        \"\"\"\n",
        "        誤差逆伝播を行うメソッド．\n",
        "        delta (=delta_{j+1}): shape=(batch_size, out_dim_{j+1})\n",
        "        W (=W_{j+1}): shape=(out_dim_{j}, out_dim_{j+1})\n",
        "        self.delta (=delta_{j}: shape=(batch_size, out_dim_{j})\n",
        "        \"\"\"\n",
        "        self.delta = self.deriv_function(self.u) * np.matmul(delta, W.T)\n",
        "        return self.delta\n",
        "\n",
        "    def compute_grad(self):\n",
        "        \"\"\"\n",
        "        勾配を計算するメソッド．\n",
        "        self.x: shape=(batch_size, in_dim_{j})\n",
        "        self.delta: shape=(batch_size, out_dim_{j})\n",
        "        self.dW: shape=(in_dim_{j}, out_dim_{j})\n",
        "        self.db: shape=(out_dim_{j})\n",
        "        \"\"\"\n",
        "        batch_size = self.delta.shape[0]\n",
        "\n",
        "        self.dW = np.matmul(self.x.T, self.delta) / batch_size\n",
        "        self.db = np.matmul(np.ones(batch_size), self.delta) / batch_size\n",
        "\n",
        "    def get_params(self):\n",
        "        return np.concatenate([self.W.ravel(), self.b], axis=0)\n",
        "\n",
        "    def set_params(self, params):\n",
        "        \"\"\"\n",
        "        params: List[np.ndarray, np.ndarray]\n",
        "            1つ目の要素が重みW(shape=(in_dim, out_dim)，2つ目の要素がバイアス(shape=(out_dim))\n",
        "        \"\"\"\n",
        "        _W, _b = np.split(params, self.params_idxs)[:-1]\n",
        "        self.W = _W.reshape(self.W.shape)\n",
        "        self.b = _b\n",
        "\n",
        "    def get_grads(self):\n",
        "        return np.concatenate([self.dW.ravel(), self.db], axis=0)\n",
        "\n",
        "\n",
        "class Model:\n",
        "    def __init__(self, hidden_dims, activation_functions, deriv_functions):\n",
        "        \"\"\"\n",
        "        :param hiden_dims: List[int]，各層のノード数を格納したリスト．\n",
        "        :params activation_functions: List, 各層で用いる活性化関数を格納したリスト．\n",
        "        :params derive_functions: List，各層で用いる活性化関数の導関数を格納したリスト．\n",
        "        \"\"\"\n",
        "        # 各層をリストに格納していく\n",
        "        self.layers = []\n",
        "        for i in range(len(hidden_dims)-2):  # 出力層以外は同じ構造\n",
        "            self.layers.append(Dense(hidden_dims[i], hidden_dims[i+1],\n",
        "                                     activation_functions[i], deriv_functions[i]))\n",
        "        self.layers.append(Dense(hidden_dims[-2], hidden_dims[-1],\n",
        "                                 activation_functions[-1], deriv_functions[-1]))  # 出力層を追加\n",
        "\n",
        "    def __call__(self, x):\n",
        "        return self.forward(x)\n",
        "\n",
        "    def forward(self, x):\n",
        "        \"\"\"順伝播処理を行うメソッド\"\"\"\n",
        "        for layer in self.layers:\n",
        "            x = layer(x)\n",
        "        return x\n",
        "\n",
        "    def backward(self, delta):\n",
        "        \"\"\"誤差逆伝播，勾配計算を行うメソッド\"\"\"\n",
        "        batch_size = delta.shape[0]\n",
        "\n",
        "        for i, layer in enumerate(self.layers[::-1]):\n",
        "            if i == 0:  # 出力層の場合\n",
        "                layer.delta = delta  # y - t\n",
        "                layer.compute_grad()\n",
        "            else:  # 出力層以外の場合\n",
        "                delta = layer.b_prop(delta, W)  # 逆伝播\n",
        "                layer.compute_grad()  # 勾配の計算\n",
        "\n",
        "            W = layer.W\n",
        "\n",
        "    def update(self, eps=0.01):\n",
        "        \"\"\"パラメータの更新を行うメソッド\"\"\"\n",
        "        for layer in self.layers:\n",
        "            layer.W -= eps * layer.dW\n",
        "            layer.b -= eps * layer.db\n",
        "\n",
        "lr = 0.01\n",
        "n_epochs = 100\n",
        "batch_size = 50\n",
        "p = PReLU()\n",
        "mlp = Model(hidden_dims=[784, 255, 255, 255, 255, 10],\n",
        "            activation_functions=[p, p, p, p, softmax],\n",
        "            deriv_functions=[p.deriv, p.deriv, p.deriv, p.deriv, deriv_softmax])"
      ],
      "metadata": {
        "id": "PADQiKNa2snb"
      },
      "execution_count": null,
      "outputs": []
    },
    {
      "cell_type": "markdown",
      "source": [
        "### モデルの学習"
      ],
      "metadata": {
        "id": "I1IXxVHfT9O9"
      }
    },
    {
      "cell_type": "code",
      "source": [
        "# 初期の学習率\n",
        "initial_lr = 0.01\n",
        "# 減衰率\n",
        "decay_rate = 0.1\n",
        "\n",
        "def learning_rate_decay(epoch, initial_lr, decay_rate):\n",
        "    return initial_lr * (1.0 / (1.0 + decay_rate * epoch))\n",
        "\n",
        "\n",
        "def train_model(mlp, x_train, t_train, x_val, t_val, n_epochs=10):\n",
        "    for epoch in range(n_epochs):\n",
        "        losses_train = []\n",
        "        losses_valid = []\n",
        "        train_num = 0\n",
        "        train_true_num = 0\n",
        "        valid_num = 0\n",
        "        valid_true_num = 0\n",
        "\n",
        "        \n",
        "\n",
        "        x_train, t_train = shuffle(x_train, t_train)\n",
        "        x_train_batches, t_train_batches = create_batch(x_train, batch_size), create_batch(t_train, batch_size)\n",
        "\n",
        "        x_val, t_val = shuffle(x_val, t_val)\n",
        "        x_val_batches, t_val_batches = create_batch(x_val, batch_size), create_batch(t_val, batch_size)\n",
        "        \n",
        "        count = 0\n",
        "        # モデルの訓練\n",
        "        for x, t in zip(x_train_batches, t_train_batches):\n",
        "            # 順伝播\n",
        "            y = mlp(x)\n",
        "\n",
        "            # 損失の計算\n",
        "            loss = (-t * np_log(y)).sum(axis=1).mean()     \n",
        "            losses_train.append(loss.tolist())\n",
        "\n",
        "                # 逆伝播\n",
        "            delta = y - t\n",
        "            mlp.backward(delta)\n",
        "\n",
        "            # パラメータの更新\n",
        "            mlp.update(lr)\n",
        "\n",
        "\n",
        "            # 精度を計算\n",
        "            acc = accuracy_score(t.argmax(axis=1), y.argmax(axis=1), normalize=False)\n",
        "            train_num += x.shape[0]\n",
        "            train_true_num += acc\n",
        "\n",
        "\n",
        "        # モデルの評価\n",
        "        for x, t in zip(x_val_batches, t_val_batches):\n",
        "            # 順伝播\n",
        "            # WRITE ME\n",
        "            y = mlp(x)\n",
        "\n",
        "            # 損失の計算\n",
        "            # WRITE ME\n",
        "            loss = (-t * np_log(y)).sum(axis=1).mean() \n",
        "            losses_valid.append(loss.tolist())\n",
        "\n",
        "            acc = accuracy_score(t.argmax(axis=1), y.argmax(axis=1), normalize=False)\n",
        "            valid_num += x.shape[0]\n",
        "            valid_true_num += acc.sum().item()\n",
        "\n",
        "        print('EPOCH: {}, Train [Loss: {:.3f}, Accuracy: {:.3f}], Valid [Loss: {:.3f}, Accuracy: {:.3f}]'.format(\n",
        "            epoch,\n",
        "            np.mean(losses_train),\n",
        "            train_true_num/train_num,\n",
        "            np.mean(losses_valid),\n",
        "            valid_true_num/valid_num\n",
        "        ))\n",
        "        \n",
        "\n",
        "\n",
        "train_model(mlp, x_train, t_train, x_val, t_val, n_epochs)\n"
      ],
      "metadata": {
        "id": "iUrJQQhUlfCi",
        "colab": {
          "base_uri": "https://localhost:8080/"
        },
        "outputId": "ab17c01f-fb23-48e9-b4e7-62eb2b2919ea"
      },
      "execution_count": null,
      "outputs": [
        {
          "output_type": "stream",
          "name": "stdout",
          "text": [
            "EPOCH: 0, Train [Loss: 1.394, Accuracy: 0.528], Valid [Loss: 0.759, Accuracy: 0.730]\n",
            "EPOCH: 1, Train [Loss: 0.679, Accuracy: 0.753], Valid [Loss: 0.609, Accuracy: 0.783]\n",
            "EPOCH: 2, Train [Loss: 0.564, Accuracy: 0.802], Valid [Loss: 0.547, Accuracy: 0.811]\n",
            "EPOCH: 3, Train [Loss: 0.507, Accuracy: 0.820], Valid [Loss: 0.483, Accuracy: 0.829]\n",
            "EPOCH: 4, Train [Loss: 0.476, Accuracy: 0.831], Valid [Loss: 0.457, Accuracy: 0.841]\n",
            "EPOCH: 5, Train [Loss: 0.452, Accuracy: 0.839], Valid [Loss: 0.453, Accuracy: 0.841]\n",
            "EPOCH: 6, Train [Loss: 0.434, Accuracy: 0.846], Valid [Loss: 0.440, Accuracy: 0.848]\n",
            "EPOCH: 7, Train [Loss: 0.416, Accuracy: 0.853], Valid [Loss: 0.405, Accuracy: 0.860]\n",
            "EPOCH: 8, Train [Loss: 0.404, Accuracy: 0.857], Valid [Loss: 0.408, Accuracy: 0.859]\n",
            "EPOCH: 9, Train [Loss: 0.392, Accuracy: 0.859], Valid [Loss: 0.391, Accuracy: 0.862]\n",
            "EPOCH: 10, Train [Loss: 0.380, Accuracy: 0.864], Valid [Loss: 0.390, Accuracy: 0.863]\n",
            "EPOCH: 11, Train [Loss: 0.369, Accuracy: 0.869], Valid [Loss: 0.393, Accuracy: 0.864]\n",
            "EPOCH: 12, Train [Loss: 0.359, Accuracy: 0.871], Valid [Loss: 0.392, Accuracy: 0.863]\n",
            "EPOCH: 13, Train [Loss: 0.350, Accuracy: 0.874], Valid [Loss: 0.355, Accuracy: 0.874]\n",
            "EPOCH: 14, Train [Loss: 0.343, Accuracy: 0.876], Valid [Loss: 0.351, Accuracy: 0.878]\n",
            "EPOCH: 15, Train [Loss: 0.335, Accuracy: 0.880], Valid [Loss: 0.363, Accuracy: 0.868]\n",
            "EPOCH: 16, Train [Loss: 0.327, Accuracy: 0.882], Valid [Loss: 0.342, Accuracy: 0.878]\n",
            "EPOCH: 17, Train [Loss: 0.321, Accuracy: 0.884], Valid [Loss: 0.349, Accuracy: 0.873]\n",
            "EPOCH: 18, Train [Loss: 0.315, Accuracy: 0.885], Valid [Loss: 0.335, Accuracy: 0.877]\n",
            "EPOCH: 19, Train [Loss: 0.308, Accuracy: 0.889], Valid [Loss: 0.334, Accuracy: 0.879]\n",
            "EPOCH: 20, Train [Loss: 0.303, Accuracy: 0.890], Valid [Loss: 0.333, Accuracy: 0.881]\n",
            "EPOCH: 21, Train [Loss: 0.297, Accuracy: 0.892], Valid [Loss: 0.354, Accuracy: 0.871]\n",
            "EPOCH: 22, Train [Loss: 0.292, Accuracy: 0.894], Valid [Loss: 0.345, Accuracy: 0.876]\n",
            "EPOCH: 23, Train [Loss: 0.286, Accuracy: 0.895], Valid [Loss: 0.343, Accuracy: 0.875]\n",
            "EPOCH: 24, Train [Loss: 0.282, Accuracy: 0.897], Valid [Loss: 0.325, Accuracy: 0.879]\n",
            "EPOCH: 25, Train [Loss: 0.276, Accuracy: 0.899], Valid [Loss: 0.316, Accuracy: 0.886]\n",
            "EPOCH: 26, Train [Loss: 0.271, Accuracy: 0.901], Valid [Loss: 0.314, Accuracy: 0.887]\n",
            "EPOCH: 27, Train [Loss: 0.266, Accuracy: 0.903], Valid [Loss: 0.323, Accuracy: 0.886]\n",
            "EPOCH: 28, Train [Loss: 0.262, Accuracy: 0.904], Valid [Loss: 0.322, Accuracy: 0.886]\n",
            "EPOCH: 29, Train [Loss: 0.258, Accuracy: 0.905], Valid [Loss: 0.315, Accuracy: 0.885]\n",
            "EPOCH: 30, Train [Loss: 0.255, Accuracy: 0.906], Valid [Loss: 0.309, Accuracy: 0.888]\n",
            "EPOCH: 31, Train [Loss: 0.250, Accuracy: 0.909], Valid [Loss: 0.305, Accuracy: 0.891]\n",
            "EPOCH: 32, Train [Loss: 0.245, Accuracy: 0.910], Valid [Loss: 0.307, Accuracy: 0.891]\n",
            "EPOCH: 33, Train [Loss: 0.239, Accuracy: 0.913], Valid [Loss: 0.326, Accuracy: 0.884]\n",
            "EPOCH: 34, Train [Loss: 0.237, Accuracy: 0.913], Valid [Loss: 0.310, Accuracy: 0.890]\n",
            "EPOCH: 35, Train [Loss: 0.232, Accuracy: 0.915], Valid [Loss: 0.318, Accuracy: 0.887]\n",
            "EPOCH: 36, Train [Loss: 0.227, Accuracy: 0.917], Valid [Loss: 0.318, Accuracy: 0.884]\n",
            "EPOCH: 37, Train [Loss: 0.224, Accuracy: 0.918], Valid [Loss: 0.307, Accuracy: 0.890]\n",
            "EPOCH: 38, Train [Loss: 0.222, Accuracy: 0.918], Valid [Loss: 0.319, Accuracy: 0.884]\n",
            "EPOCH: 39, Train [Loss: 0.217, Accuracy: 0.920], Valid [Loss: 0.318, Accuracy: 0.889]\n",
            "EPOCH: 40, Train [Loss: 0.214, Accuracy: 0.921], Valid [Loss: 0.305, Accuracy: 0.891]\n",
            "EPOCH: 41, Train [Loss: 0.209, Accuracy: 0.923], Valid [Loss: 0.327, Accuracy: 0.881]\n",
            "EPOCH: 42, Train [Loss: 0.207, Accuracy: 0.925], Valid [Loss: 0.325, Accuracy: 0.887]\n",
            "EPOCH: 43, Train [Loss: 0.203, Accuracy: 0.925], Valid [Loss: 0.305, Accuracy: 0.892]\n",
            "EPOCH: 44, Train [Loss: 0.199, Accuracy: 0.927], Valid [Loss: 0.326, Accuracy: 0.887]\n",
            "EPOCH: 45, Train [Loss: 0.194, Accuracy: 0.929], Valid [Loss: 0.360, Accuracy: 0.879]\n",
            "EPOCH: 46, Train [Loss: 0.192, Accuracy: 0.931], Valid [Loss: 0.301, Accuracy: 0.892]\n",
            "EPOCH: 47, Train [Loss: 0.190, Accuracy: 0.932], Valid [Loss: 0.305, Accuracy: 0.894]\n",
            "EPOCH: 48, Train [Loss: 0.186, Accuracy: 0.933], Valid [Loss: 0.316, Accuracy: 0.892]\n",
            "EPOCH: 49, Train [Loss: 0.183, Accuracy: 0.933], Valid [Loss: 0.346, Accuracy: 0.882]\n",
            "EPOCH: 50, Train [Loss: 0.179, Accuracy: 0.934], Valid [Loss: 0.308, Accuracy: 0.896]\n",
            "EPOCH: 51, Train [Loss: 0.175, Accuracy: 0.937], Valid [Loss: 0.328, Accuracy: 0.890]\n",
            "EPOCH: 52, Train [Loss: 0.174, Accuracy: 0.936], Valid [Loss: 0.338, Accuracy: 0.881]\n",
            "EPOCH: 53, Train [Loss: 0.170, Accuracy: 0.938], Valid [Loss: 0.301, Accuracy: 0.897]\n",
            "EPOCH: 54, Train [Loss: 0.167, Accuracy: 0.939], Valid [Loss: 0.303, Accuracy: 0.896]\n",
            "EPOCH: 55, Train [Loss: 0.164, Accuracy: 0.940], Valid [Loss: 0.316, Accuracy: 0.893]\n",
            "EPOCH: 56, Train [Loss: 0.163, Accuracy: 0.940], Valid [Loss: 0.305, Accuracy: 0.898]\n",
            "EPOCH: 57, Train [Loss: 0.157, Accuracy: 0.944], Valid [Loss: 0.320, Accuracy: 0.893]\n",
            "EPOCH: 58, Train [Loss: 0.155, Accuracy: 0.943], Valid [Loss: 0.343, Accuracy: 0.881]\n",
            "EPOCH: 59, Train [Loss: 0.151, Accuracy: 0.944], Valid [Loss: 0.319, Accuracy: 0.892]\n",
            "EPOCH: 60, Train [Loss: 0.149, Accuracy: 0.946], Valid [Loss: 0.355, Accuracy: 0.883]\n",
            "EPOCH: 61, Train [Loss: 0.146, Accuracy: 0.948], Valid [Loss: 0.319, Accuracy: 0.892]\n",
            "EPOCH: 62, Train [Loss: 0.143, Accuracy: 0.948], Valid [Loss: 0.347, Accuracy: 0.884]\n",
            "EPOCH: 63, Train [Loss: 0.141, Accuracy: 0.948], Valid [Loss: 0.339, Accuracy: 0.892]\n",
            "EPOCH: 64, Train [Loss: 0.137, Accuracy: 0.950], Valid [Loss: 0.319, Accuracy: 0.896]\n",
            "EPOCH: 65, Train [Loss: 0.134, Accuracy: 0.952], Valid [Loss: 0.340, Accuracy: 0.891]\n",
            "EPOCH: 66, Train [Loss: 0.132, Accuracy: 0.952], Valid [Loss: 0.354, Accuracy: 0.885]\n",
            "EPOCH: 67, Train [Loss: 0.132, Accuracy: 0.953], Valid [Loss: 0.345, Accuracy: 0.890]\n",
            "EPOCH: 68, Train [Loss: 0.129, Accuracy: 0.952], Valid [Loss: 0.337, Accuracy: 0.895]\n",
            "EPOCH: 69, Train [Loss: 0.129, Accuracy: 0.953], Valid [Loss: 0.344, Accuracy: 0.889]\n",
            "EPOCH: 70, Train [Loss: 0.123, Accuracy: 0.955], Valid [Loss: 0.353, Accuracy: 0.893]\n",
            "EPOCH: 71, Train [Loss: 0.120, Accuracy: 0.956], Valid [Loss: 0.350, Accuracy: 0.890]\n",
            "EPOCH: 72, Train [Loss: 0.117, Accuracy: 0.958], Valid [Loss: 0.338, Accuracy: 0.895]\n",
            "EPOCH: 73, Train [Loss: 0.116, Accuracy: 0.958], Valid [Loss: 0.450, Accuracy: 0.869]\n",
            "EPOCH: 74, Train [Loss: 0.113, Accuracy: 0.959], Valid [Loss: 0.433, Accuracy: 0.877]\n",
            "EPOCH: 75, Train [Loss: 0.112, Accuracy: 0.960], Valid [Loss: 0.341, Accuracy: 0.897]\n",
            "EPOCH: 76, Train [Loss: 0.110, Accuracy: 0.960], Valid [Loss: 0.364, Accuracy: 0.894]\n",
            "EPOCH: 77, Train [Loss: 0.105, Accuracy: 0.963], Valid [Loss: 0.357, Accuracy: 0.891]\n",
            "EPOCH: 78, Train [Loss: 0.104, Accuracy: 0.963], Valid [Loss: 0.372, Accuracy: 0.893]\n",
            "EPOCH: 79, Train [Loss: 0.102, Accuracy: 0.963], Valid [Loss: 0.365, Accuracy: 0.891]\n",
            "EPOCH: 80, Train [Loss: 0.101, Accuracy: 0.963], Valid [Loss: 0.374, Accuracy: 0.893]\n",
            "EPOCH: 81, Train [Loss: 0.096, Accuracy: 0.965], Valid [Loss: 0.387, Accuracy: 0.892]\n",
            "EPOCH: 82, Train [Loss: 0.097, Accuracy: 0.965], Valid [Loss: 0.403, Accuracy: 0.887]\n",
            "EPOCH: 83, Train [Loss: 0.095, Accuracy: 0.966], Valid [Loss: 0.384, Accuracy: 0.893]\n",
            "EPOCH: 84, Train [Loss: 0.093, Accuracy: 0.966], Valid [Loss: 0.399, Accuracy: 0.892]\n",
            "EPOCH: 85, Train [Loss: 0.090, Accuracy: 0.968], Valid [Loss: 0.390, Accuracy: 0.889]\n",
            "EPOCH: 86, Train [Loss: 0.089, Accuracy: 0.968], Valid [Loss: 0.375, Accuracy: 0.893]\n",
            "EPOCH: 87, Train [Loss: 0.084, Accuracy: 0.970], Valid [Loss: 0.416, Accuracy: 0.889]\n",
            "EPOCH: 88, Train [Loss: 0.085, Accuracy: 0.969], Valid [Loss: 0.387, Accuracy: 0.894]\n",
            "EPOCH: 89, Train [Loss: 0.082, Accuracy: 0.971], Valid [Loss: 0.395, Accuracy: 0.893]\n",
            "EPOCH: 90, Train [Loss: 0.080, Accuracy: 0.972], Valid [Loss: 0.406, Accuracy: 0.893]\n",
            "EPOCH: 91, Train [Loss: 0.078, Accuracy: 0.972], Valid [Loss: 0.398, Accuracy: 0.898]\n",
            "EPOCH: 92, Train [Loss: 0.078, Accuracy: 0.972], Valid [Loss: 0.391, Accuracy: 0.896]\n",
            "EPOCH: 93, Train [Loss: 0.078, Accuracy: 0.972], Valid [Loss: 0.400, Accuracy: 0.892]\n",
            "EPOCH: 94, Train [Loss: 0.074, Accuracy: 0.973], Valid [Loss: 0.447, Accuracy: 0.885]\n",
            "EPOCH: 95, Train [Loss: 0.075, Accuracy: 0.973], Valid [Loss: 0.439, Accuracy: 0.889]\n",
            "EPOCH: 96, Train [Loss: 0.073, Accuracy: 0.974], Valid [Loss: 0.404, Accuracy: 0.897]\n",
            "EPOCH: 97, Train [Loss: 0.068, Accuracy: 0.976], Valid [Loss: 0.462, Accuracy: 0.891]\n",
            "EPOCH: 98, Train [Loss: 0.067, Accuracy: 0.976], Valid [Loss: 0.443, Accuracy: 0.892]\n",
            "EPOCH: 99, Train [Loss: 0.067, Accuracy: 0.976], Valid [Loss: 0.426, Accuracy: 0.891]\n"
          ]
        }
      ]
    },
    {
      "cell_type": "code",
      "metadata": {
        "id": "Yq3scS5j4Rt2"
      },
      "source": [
        "t_pred = []\n",
        "for x in x_test:\n",
        "    # 順伝播\n",
        "    x = x[np.newaxis, :]\n",
        "    y = mlp(x)\n",
        "\n",
        "    # モデルの出力を予測値のスカラーに変換\n",
        "    pred = y.argmax(1).tolist()\n",
        "\n",
        "    t_pred.extend(pred)\n",
        "\n",
        "submission = pd.Series(t_pred, name='label')\n",
        "submission.to_csv('drive/MyDrive/Colab Notebooks/DLBasics2023_colab/Lecture03/submission_pred.csv', header=True, index_label='id')"
      ],
      "execution_count": null,
      "outputs": []
    },
    {
      "cell_type": "code",
      "source": [],
      "metadata": {
        "id": "Od8w-Sn0rJ98"
      },
      "execution_count": null,
      "outputs": []
    }
  ]
}