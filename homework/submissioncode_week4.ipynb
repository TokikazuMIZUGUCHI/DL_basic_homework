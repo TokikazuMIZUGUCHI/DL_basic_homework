{
  "cells": [
    {
      "cell_type": "markdown",
      "metadata": {
        "id": "MUWcdth_khfN"
      },
      "source": [
        "# 第4回講義 宿題"
      ]
    },
    {
      "cell_type": "markdown",
      "metadata": {
        "id": "gAjuP7I4lWyn"
      },
      "source": [
        "## 課題\n",
        "\n",
        "今Lessonで学んだことを元に，MNISTのファッション版 (Fashion MNIST，クラス数10) を多層パーセプトロンによって分類してみましょう．\n",
        "\n",
        "Fashion MNISTの詳細については以下のリンクを参考にしてください．\n",
        "\n",
        "Fashion MNIST: https://github.com/zalandoresearch/fashion-mnist"
      ]
    },
    {
      "cell_type": "markdown",
      "metadata": {
        "id": "Cpiz19GRlZ_9"
      },
      "source": [
        "### 目標値\n",
        "\n",
        "Accuracy 85%"
      ]
    },
    {
      "cell_type": "markdown",
      "metadata": {
        "id": "qSHeI_utleEN"
      },
      "source": [
        "### ルール\n",
        "\n",
        "- 訓練データはx_train，t_train，テストデータはx_testで与えられます．\n",
        "- 予測ラベルはone_hot表現ではなく0~9のクラスラベルで表してください．\n",
        "- **下のセルで指定されているx_train、t_train以外の学習データは使わないでください**．\n",
        "- Pytorchを利用して構いません．\n",
        "- ただし，**torch.nn.Conv2dのような高レベルのAPIは使用しないで下さい**．具体的には，nn.Parameter, nn.Module, nn.Sequential以外のnn系のAPIです．\n",
        "- torchvision等で既に実装されているモデルも使用しないで下さい．"
      ]
    },
    {
      "cell_type": "markdown",
      "metadata": {
        "id": "diuec-_YluI6"
      },
      "source": [
        "### 提出方法\n",
        "\n",
        "- 2つのファイルを提出していただきます．\n",
        "  - テストデータ (x_test) に対する予測ラベルをcsvファイル (ファイル名: submission_pred.csv) で提出してください．\n",
        "  - それに対応するpythonのコードをsubmission_code.pyとして提出してください (%%writefileコマンドなどを利用してください)．"
      ]
    },
    {
      "cell_type": "markdown",
      "metadata": {
        "id": "hofSzJsVlvKp"
      },
      "source": [
        "### 評価方法\n",
        "\n",
        "- 予測ラベルのt_testに対する精度 (Accuracy) で評価します．\n",
        "- 即時採点しLeader Boardを更新します．（採点スケジュールは別アナウンス）\n",
        "- 締切後の点数を最終的な評価とします．"
      ]
    },
    {
      "cell_type": "markdown",
      "metadata": {
        "id": "ALYtPC5OjKFM"
      },
      "source": [
        "### ドライブのマウント"
      ]
    },
    {
      "cell_type": "code",
      "execution_count": null,
      "metadata": {
        "id": "efPoZs_KjKFM",
        "colab": {
          "base_uri": "https://localhost:8080/"
        },
        "outputId": "eb731aff-2f92-440d-9d0b-e33bb00037e3"
      },
      "outputs": [
        {
          "output_type": "stream",
          "name": "stdout",
          "text": [
            "Drive already mounted at /content/drive; to attempt to forcibly remount, call drive.mount(\"/content/drive\", force_remount=True).\n"
          ]
        }
      ],
      "source": [
        "from google.colab import drive\n",
        "drive.mount('/content/drive')"
      ]
    },
    {
      "cell_type": "markdown",
      "metadata": {
        "id": "Cu4cmQtelx19"
      },
      "source": [
        "### データの読み込み（この部分は修正しないでください）"
      ]
    },
    {
      "cell_type": "code",
      "execution_count": null,
      "metadata": {
        "id": "EsLDDSUJkRx-"
      },
      "outputs": [],
      "source": [
        "import os\n",
        "import numpy as np\n",
        "import pandas as pd\n",
        "import torch\n",
        "import torch.nn as nn\n",
        "import torch.optim as optim\n",
        "import torch.autograd as autograd\n",
        "import inspect\n",
        " \n",
        "nn_except = [\"Module\", \"Parameter\", \"Sequential\"]\n",
        "for m in inspect.getmembers(nn):\n",
        "    if not m[0] in nn_except and m[0][0:2] != \"__\":\n",
        "        delattr(nn, m[0]) \n",
        "\n",
        "seed = 1234\n",
        "torch.manual_seed(seed)\n",
        "np.random.seed(seed)\n",
        "\n",
        "device = torch.device(\"cuda\" if torch.cuda.is_available() else \"cpu\")\n",
        "\n",
        "#学習データ\n",
        "x_train = np.load('drive/MyDrive/Colab Notebooks/DLBasics2023_colab/Lecture04/data/x_train.npy')\n",
        "t_train = np.load('drive/MyDrive/Colab Notebooks/DLBasics2023_colab/Lecture04/data/y_train.npy')\n",
        "    \n",
        "#テストデータ\n",
        "x_test = np.load('drive/MyDrive/Colab Notebooks/DLBasics2023_colab/Lecture04/data/x_test.npy')\n",
        "\n",
        "class train_dataset(torch.utils.data.Dataset):\n",
        "    def __init__(self, x_train, t_train):\n",
        "        self.x_train = x_train.reshape(-1, 784).astype('float32') / 255\n",
        "        self.t_train = t_train\n",
        "\n",
        "    def __len__(self):\n",
        "        return self.x_train.shape[0]\n",
        "\n",
        "    def __getitem__(self, idx):\n",
        "        return torch.tensor(self.x_train[idx], dtype=torch.float), torch.tensor(self.t_train[idx], dtype=torch.long)\n",
        "\n",
        "class test_dataset(torch.utils.data.Dataset):\n",
        "    def __init__(self, x_test):\n",
        "        self.x_test = x_test.reshape(-1, 784).astype('float32') / 255\n",
        "\n",
        "    def __len__(self):\n",
        "        return self.x_test.shape[0]\n",
        "\n",
        "    def __getitem__(self, idx):\n",
        "        return torch.tensor(self.x_test[idx], dtype=torch.float)\n",
        "\n",
        "trainval_data = train_dataset(x_train, t_train)\n",
        "test_data = test_dataset(x_test)"
      ]
    },
    {
      "cell_type": "markdown",
      "metadata": {
        "id": "UrSpHDIWOfK_"
      },
      "source": [
        "### 多層パーセプトロンの実装"
      ]
    },
    {
      "cell_type": "code",
      "execution_count": null,
      "metadata": {
        "id": "sKAe0F36nSvU"
      },
      "outputs": [],
      "source": [
        "batch_size = 32\n",
        "\n",
        "val_size = 10000\n",
        "train_size = len(trainval_data) - val_size\n",
        "\n",
        "train_data, val_data = torch.utils.data.random_split(trainval_data, [train_size, val_size])\n",
        "\n",
        "dataloader_train = torch.utils.data.DataLoader(\n",
        "    train_data,\n",
        "    batch_size=batch_size,\n",
        "    shuffle=True\n",
        ")\n",
        "\n",
        "dataloader_valid = torch.utils.data.DataLoader(\n",
        "    val_data,\n",
        "    batch_size=batch_size,\n",
        "    shuffle=True\n",
        ")\n",
        "\n",
        "dataloader_test = torch.utils.data.DataLoader(\n",
        "    test_data,\n",
        "    batch_size=batch_size,\n",
        "    shuffle=False\n",
        ")"
      ]
    },
    {
      "cell_type": "code",
      "source": [
        "import random\n",
        "def random_flip(x, p=0.5):\n",
        "    if random.random() < p:\n",
        "        return x.flip(-1)  # ランダムに画像を左右反転\n",
        "    return x"
      ],
      "metadata": {
        "id": "oBWnBnqJZb4w"
      },
      "execution_count": null,
      "outputs": []
    },
    {
      "cell_type": "code",
      "execution_count": null,
      "metadata": {
        "id": "PADQiKNa2snb"
      },
      "outputs": [],
      "source": [
        "def relu(x):\n",
        "    x = torch.where(x > 0, x, torch.zeros_like(x))\n",
        "    return x\n",
        "\n",
        "\n",
        "def softmax(x):\n",
        "    x -= torch.cat([x.max(axis=1, keepdim=True).values] * x.size()[1], dim=1)\n",
        "    x_exp = torch.exp(x)\n",
        "    return x_exp/torch.cat([x_exp.sum(dim=1, keepdim=True)] * x.size()[1], dim=1)\n",
        "\n",
        "\n",
        "\n",
        "class Dense(nn.Module):  # nn.Moduleを継承する\n",
        "    def __init__(self, in_dim, out_dim, function=lambda x: x):\n",
        "        super().__init__()\n",
        "        # He Initialization\n",
        "        # in_dim: 入力の次元数、out_dim: 出力の次元数\n",
        "        self.W = nn.Parameter(torch.tensor(np.random.uniform(\n",
        "                        low=-np.sqrt(6/in_dim),\n",
        "                        high=np.sqrt(6/in_dim),\n",
        "                        size=(in_dim, out_dim)\n",
        "                    ).astype('float32')))\n",
        "        self.b = nn.Parameter(torch.tensor(np.zeros([out_dim]).astype('float32')))\n",
        "        self.function = function\n",
        "\n",
        "    def forward(self, x):  # forwardをoverride\n",
        "        return self.function(torch.matmul(x, self.W) + self.b)\n",
        "\n",
        "\n",
        "\n",
        "class MLP(nn.Module):  # nn.Moduleを継承する\n",
        "    def __init__(self, in_dim, hid_dim, out_dim):  # __init__をoverride\n",
        "        super(MLP, self).__init__()\n",
        "        self.linear1 = Dense(in_dim, hid_dim, function=relu)\n",
        "        self.linear2 = Dense(hid_dim, out_dim, function=softmax)\n",
        "\n",
        "    def forward(self, x):  # forwardをoverride\n",
        "        x = self.linear1(x)\n",
        "        x = self.linear2(x)\n",
        "        return x\n",
        "\n",
        "in_dim = 784\n",
        "hid_dim = 2500\n",
        "out_dim = 10\n",
        "lr = 0.00008\n",
        "n_epochs = 100\n",
        "\n",
        "\n",
        "mlp = MLP(in_dim, hid_dim, out_dim).to(device)\n",
        "\n",
        "optimizer = optim.Adam(mlp.parameters(), lr=lr)"
      ]
    },
    {
      "cell_type": "code",
      "execution_count": null,
      "metadata": {
        "id": "nlOZuLu-328i",
        "colab": {
          "base_uri": "https://localhost:8080/"
        },
        "outputId": "dc9b6963-db79-4997-9f8d-3ffb3289f09a"
      },
      "outputs": [
        {
          "output_type": "stream",
          "name": "stdout",
          "text": [
            "EPOCH: 0, Train [Loss: 0.546, Accuracy: 0.816], Valid [Loss: 0.431, Accuracy: 0.84910]\n",
            "EPOCH: 1, Train [Loss: 0.403, Accuracy: 0.861], Valid [Loss: 0.369, Accuracy: 0.87230]\n",
            "EPOCH: 2, Train [Loss: 0.362, Accuracy: 0.874], Valid [Loss: 0.357, Accuracy: 0.87380]\n",
            "EPOCH: 3, Train [Loss: 0.337, Accuracy: 0.882], Valid [Loss: 0.342, Accuracy: 0.87740]\n",
            "EPOCH: 4, Train [Loss: 0.314, Accuracy: 0.889], Valid [Loss: 0.335, Accuracy: 0.87980]\n",
            "EPOCH: 6, Train [Loss: 0.283, Accuracy: 0.898], Valid [Loss: 0.325, Accuracy: 0.88080]\n",
            "EPOCH: 7, Train [Loss: 0.270, Accuracy: 0.905], Valid [Loss: 0.299, Accuracy: 0.89410]\n",
            "EPOCH: 13, Train [Loss: 0.208, Accuracy: 0.926], Valid [Loss: 0.280, Accuracy: 0.89790]\n",
            "EPOCH: 16, Train [Loss: 0.185, Accuracy: 0.935], Valid [Loss: 0.274, Accuracy: 0.89880]\n",
            "EPOCH: 17, Train [Loss: 0.178, Accuracy: 0.938], Valid [Loss: 0.279, Accuracy: 0.90040]\n",
            "EPOCH: 21, Train [Loss: 0.154, Accuracy: 0.948], Valid [Loss: 0.278, Accuracy: 0.90150]\n",
            "EPOCH: 29, Train [Loss: 0.113, Accuracy: 0.963], Valid [Loss: 0.283, Accuracy: 0.90280]\n",
            "EPOCH: 33, Train [Loss: 0.095, Accuracy: 0.969], Valid [Loss: 0.280, Accuracy: 0.90520]\n",
            "EPOCH: 37, Train [Loss: 0.083, Accuracy: 0.973], Valid [Loss: 0.295, Accuracy: 0.90680]\n"
          ]
        }
      ],
      "source": [
        "best_valid_acc = 0.0  # 最高の検証精度を保存するための変数を初期化\n",
        "best_model_path = 'best_model.pth'  # 最良のモデルを保存するパス\n",
        "for epoch in range(n_epochs):\n",
        "        \n",
        "    losses_train = []\n",
        "    losses_valid = []\n",
        "    train_num = 0\n",
        "    train_true_num = 0\n",
        "    valid_num = 0\n",
        "    valid_true_num = 0\n",
        "\n",
        "    mlp.train()  # 訓練時には勾配を計算するtrainモードにする\n",
        "    for x, t in dataloader_train:\n",
        "        #x = random_flip(x)  # データ拡張を適用\n",
        "        true = t.tolist()\n",
        "\n",
        "        t_hot = torch.eye(10)[t]  # 正解ラベルをone-hot vector化\n",
        "\n",
        "        # テンソルをGPUに移動\n",
        "        x = x.to(device)\n",
        "        t_hot = t_hot.to(device)\n",
        "\n",
        "        # 順伝播\n",
        "        y = mlp.forward(x)\n",
        "\n",
        "        # 誤差の計算(クロスエントロピー誤差関数)\n",
        "        loss = -(t_hot*torch.log(y)).sum(axis=1).mean()\n",
        "\n",
        "        # 誤差の逆伝播\n",
        "        optimizer.zero_grad()\n",
        "        loss.backward()\n",
        "\n",
        "        # パラメータの更新\n",
        "        optimizer.step()\n",
        "\n",
        "        # モデルの出力を予測値のスカラーに変換\n",
        "        pred = y.argmax(1)\n",
        "\n",
        "        losses_train.append(loss.tolist())\n",
        "\n",
        "        acc = torch.where(t - pred.to(\"cpu\") == 0, torch.ones_like(t), torch.zeros_like(t))\n",
        "        train_num += acc.size()[0]\n",
        "        train_true_num += acc.sum().item()\n",
        "\n",
        "    mlp.eval()  # 評価時には勾配を計算しないevalモードにする\n",
        "    for x, t in dataloader_valid:\n",
        "        true = t.tolist()\n",
        "\n",
        "        t_hot = torch.eye(10)[t]  # 正解ラベルをone-hot vector化\n",
        "\n",
        "        # テンソルをGPUに移動\n",
        "        x = x.to(device)\n",
        "        t_hot = t_hot.to(device)\n",
        "\n",
        "        # 順伝播\n",
        "        y = mlp.forward(x)\n",
        "\n",
        "        # 誤差の計算(クロスエントロピー誤差関数)\n",
        "        loss = -(t_hot*torch.log(y)).sum(axis=1).mean()\n",
        "\n",
        "        # モデルの出力を予測値のスカラーに変換\n",
        "        pred = y.argmax(1)\n",
        "\n",
        "        losses_valid.append(loss.tolist())\n",
        "\n",
        "        acc = torch.where(t - pred.to(\"cpu\") == 0, torch.ones_like(t), torch.zeros_like(t))\n",
        "        valid_num += acc.size()[0]\n",
        "        valid_true_num += acc.sum().item()\n",
        "    # 検証ループの後で、検証精度を計算\n",
        "    valid_acc = valid_true_num / valid_num\n",
        "\n",
        "    # 現在の検証精度がこれまでの最高精度を上回った場合、モデルを保存\n",
        "    if valid_acc > best_valid_acc:\n",
        "        best_valid_acc = valid_acc\n",
        "        #mlp.load_state_dict(torch.load(best_model_path))\n",
        "\n",
        "        mlp.eval()\n",
        "        t_pred = []\n",
        "        for x in dataloader_test:\n",
        "            x = x.to(device)\n",
        "            y = mlp.forward(x)  \n",
        "            pred = y.argmax(1).tolist()\n",
        "            t_pred.extend(pred)\n",
        "\n",
        "        submission = pd.Series(t_pred, name='label')\n",
        "        submission.to_csv('drive/MyDrive/Colab Notebooks/DLBasics2023_colab/Lecture04/submission_pre.csv', header=True, index_label='id')\n",
        "        print('EPOCH: {}, Train [Loss: {:.3f}, Accuracy: {:.3f}], Valid [Loss: {:.3f}, Accuracy: {:.5f}]'.format(\n",
        "            epoch,\n",
        "            np.mean(losses_train),\n",
        "            train_true_num/train_num,\n",
        "            np.mean(losses_valid),\n",
        "            valid_true_num/valid_num\n",
        "        ))\n",
        "\n",
        "        t_pred = []"
      ]
    },
    {
      "cell_type": "code",
      "execution_count": null,
      "metadata": {
        "id": "Yq3scS5j4Rt2"
      },
      "outputs": [],
      "source": [
        "mlp.eval()\n",
        "t_pred = []\n",
        "for x in dataloader_test:\n",
        "    x = x.to(device)\n",
        "    y = mlp.forward(x)  \n",
        "    pred = y.argmax(1).tolist()\n",
        "    t_pred.extend(pred)\n",
        "\n",
        "submission = pd.Series(t_pred, name='label')\n",
        "submission.to_csv('drive/MyDrive/Colab Notebooks/DLBasics2023_colab/Lecture04/submission_pred.csv', header=True, index_label='id')"
      ]
    }
  ],
  "metadata": {
    "accelerator": "GPU",
    "colab": {
      "provenance": []
    },
    "kernelspec": {
      "display_name": "Python 3",
      "language": "python",
      "name": "python3"
    },
    "language_info": {
      "codemirror_mode": {
        "name": "ipython",
        "version": 3
      },
      "file_extension": ".py",
      "mimetype": "text/x-python",
      "name": "python",
      "nbconvert_exporter": "python",
      "pygments_lexer": "ipython3",
      "version": "3.6.2"
    }
  },
  "nbformat": 4,
  "nbformat_minor": 0
}