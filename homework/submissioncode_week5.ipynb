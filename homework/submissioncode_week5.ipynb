{
  "nbformat": 4,
  "nbformat_minor": 0,
  "metadata": {
    "accelerator": "GPU",
    "colab": {
      "provenance": []
    },
    "kernelspec": {
      "display_name": "Python 3",
      "language": "python",
      "name": "python3"
    },
    "language_info": {
      "codemirror_mode": {
        "name": "ipython",
        "version": 3
      },
      "file_extension": ".py",
      "mimetype": "text/x-python",
      "name": "python",
      "nbconvert_exporter": "python",
      "pygments_lexer": "ipython3",
      "version": "3.7.4"
    }
  },
  "cells": [
    {
      "cell_type": "markdown",
      "metadata": {
        "id": "MUWcdth_khfN"
      },
      "source": [
        "# 第5回講義 宿題"
      ]
    },
    {
      "cell_type": "markdown",
      "metadata": {
        "id": "gAjuP7I4lWyn"
      },
      "source": [
        "## 課題\n",
        "\n",
        "今Lessonで学んだことに工夫を加えて，CNNでより高精度なCIFAR10の分類器を実装してみましょう．精度上位者はリーダーボードに載ります．"
      ]
    },
    {
      "cell_type": "markdown",
      "metadata": {
        "id": "Cpiz19GRlZ_9"
      },
      "source": [
        "### 目標値\n",
        "\n",
        "Accuracy 78%"
      ]
    },
    {
      "cell_type": "markdown",
      "metadata": {
        "id": "qSHeI_utleEN"
      },
      "source": [
        "### ルール\n",
        "\n",
        "- 訓練データはx_train， t_train，テストデータはx_testで与えられます．\n",
        "- 予測ラベルは one_hot表現ではなく0~9のクラスラベル で表してください．\n",
        "- **下のセルで指定されているx_train，t_train以外の学習データは使わないでください．**\n",
        "- 今回から基本的にAPI制限はありません．\n",
        "- ただしCNNベースでないモデル（Vision Transformerなど）やtorchvision等の既存モデル，学習済みモデルは用いないでください．"
      ]
    },
    {
      "cell_type": "markdown",
      "metadata": {
        "id": "diuec-_YluI6"
      },
      "source": [
        "### 提出方法\n",
        "\n",
        "- 2つのファイルを提出していただきます．\n",
        "  - テストデータ (x_test) に対する予測ラベルをcsvファイル (ファイル名: submission_pred.csv) で提出してください．\n",
        "  - それに対応するpythonのコードをsubmission_code.pyとして提出してください (%%writefileコマンドなどを利用してください)．"
      ]
    },
    {
      "cell_type": "markdown",
      "metadata": {
        "id": "hofSzJsVlvKp"
      },
      "source": [
        "### 評価方法\n",
        "\n",
        "- 予測ラベルのt_testに対する精度 (Accuracy) で評価します．\n",
        "- 提出後即時採点を行い，Leader Boardが更新されます．\n",
        "- 締切後の点数を最終的な評価とします．"
      ]
    },
    {
      "cell_type": "code",
      "source": [
        "# ドライブのマウント\n",
        "from google.colab import drive\n",
        "drive.mount('/content/drive')"
      ],
      "metadata": {
        "id": "8dS-Kfw6fBxm",
        "outputId": "a408fe79-bae5-4f17-f1eb-a74eb3efbbd5",
        "colab": {
          "base_uri": "https://localhost:8080/"
        }
      },
      "execution_count": null,
      "outputs": [
        {
          "output_type": "stream",
          "name": "stdout",
          "text": [
            "Mounted at /content/drive\n"
          ]
        }
      ]
    },
    {
      "cell_type": "markdown",
      "metadata": {
        "id": "Cu4cmQtelx19"
      },
      "source": [
        "### データの読み込み\n",
        "\n",
        "- この部分は修正しないでください"
      ]
    },
    {
      "cell_type": "code",
      "metadata": {
        "id": "EsLDDSUJkRx-"
      },
      "source": [
        "import random\n",
        "\n",
        "import numpy as np\n",
        "import pandas as pd\n",
        "import torch\n",
        "from torchvision import transforms\n",
        "from tqdm import tqdm_notebook as tqdm\n",
        "from PIL import Image\n",
        "from sklearn.model_selection import train_test_split\n",
        "\n",
        "#学習データ\n",
        "x_train = np.load('drive/MyDrive/Colab Notebooks/DLBasics2023_colab/Lecture05/data/x_train.npy')\n",
        "t_train = np.load('drive/MyDrive/Colab Notebooks/DLBasics2023_colab/Lecture05/data/t_train.npy')\n",
        "    \n",
        "#テストデータ\n",
        "x_test = np.load('drive/MyDrive/Colab Notebooks/DLBasics2023_colab/Lecture05/data/x_test.npy')\n",
        "\n",
        "class train_dataset(torch.utils.data.Dataset):\n",
        "    def __init__(self, x_train, t_train):\n",
        "        data = x_train.astype('float32')\n",
        "        self.x_train = []\n",
        "        for i in range(data.shape[0]):\n",
        "            self.x_train.append(Image.fromarray(np.uint8(data[i])))\n",
        "        self.t_train = t_train\n",
        "        self.transform = transforms.ToTensor()\n",
        "\n",
        "    def __len__(self):\n",
        "        return len(self.x_train)\n",
        "\n",
        "    def __getitem__(self, idx):\n",
        "        return self.transform(self.x_train[idx]), torch.tensor(t_train[idx], dtype=torch.long)\n",
        "\n",
        "class test_dataset(torch.utils.data.Dataset):\n",
        "    def __init__(self, x_test):\n",
        "        data = x_test.astype('float32')\n",
        "        self.x_test = []\n",
        "        for i in range(data.shape[0]):\n",
        "            self.x_test.append(Image.fromarray(np.uint8(data[i])))\n",
        "        self.transform = transforms.ToTensor()\n",
        "\n",
        "    def __len__(self):\n",
        "        return len(self.x_test)\n",
        "\n",
        "    def __getitem__(self, idx):\n",
        "        return self.transform(self.x_test[idx])\n",
        "\n",
        "trainval_data = train_dataset(x_train, t_train)\n",
        "test_data = test_dataset(x_test)"
      ],
      "execution_count": null,
      "outputs": []
    },
    {
      "cell_type": "markdown",
      "metadata": {
        "id": "UrSpHDIWOfK_"
      },
      "source": [
        "### 畳み込みニューラルネットワーク(CNN)の実装"
      ]
    },
    {
      "cell_type": "code",
      "metadata": {
        "id": "sKAe0F36nSvU",
        "colab": {
          "base_uri": "https://localhost:8080/"
        },
        "outputId": "f566914e-40e1-4542-c96d-d5aeede9a110"
      },
      "source": [
        "def fix_seed(seed=1234):\n",
        "    random.seed(seed)\n",
        "    np.random.seed(seed)\n",
        "    torch.manual_seed(seed)\n",
        "\n",
        "\n",
        "fix_seed(seed=42)\n",
        "\n",
        "\n",
        "class gcn():\n",
        "    def __init__(self):\n",
        "        pass\n",
        "\n",
        "    def __call__(self, x):\n",
        "        mean = torch.mean(x)\n",
        "        std = torch.std(x)\n",
        "        return (x - mean)/(std + 10**(-6))  # 0除算を防ぐ\n",
        "\n",
        "\n",
        "class ZCAWhitening():\n",
        "    def __init__(self, epsilon=1e-4, device=\"cuda\"):  # 計算が重いのでGPUを用いる\n",
        "        self.epsilon = epsilon\n",
        "        self.device = device\n",
        "\n",
        "    def fit(self, images):  # 変換行列と平均をデータから計算\n",
        "        x = images[0][0].reshape(1, -1)\n",
        "        self.mean = torch.zeros([1, x.size()[1]]).to(self.device)\n",
        "        con_matrix = torch.zeros([x.size()[1], x.size()[1]]).to(self.device)\n",
        "        for i in range(len(images)):  # 各データについての平均を取る\n",
        "            x = images[i][0].reshape(1, -1).to(self.device)\n",
        "            self.mean += x / len(images)\n",
        "            con_matrix += torch.mm(x.t(), x) / len(images)\n",
        "            if i % 10000 == 0:\n",
        "                print(\"{0}/{1}\".format(i, len(images)))\n",
        "        self.E, self.V = torch.linalg.eigh(con_matrix)  # 固有値分解\n",
        "        self.E = torch.max(self.E, torch.zeros_like(self.E)) # 誤差の影響で負になるのを防ぐ\n",
        "        self.ZCA_matrix = torch.mm(torch.mm(self.V, torch.diag((self.E.squeeze()+self.epsilon)**(-0.5))), self.V.t())\n",
        "        print(\"completed!\")\n",
        "\n",
        "    def __call__(self, x):\n",
        "        size = x.size()\n",
        "        x = x.reshape(1, -1).to(self.device)\n",
        "        x -= self.mean\n",
        "        x = torch.mm(x, self.ZCA_matrix.t())\n",
        "        x = x.reshape(tuple(size))\n",
        "        x = x.to(\"cpu\")\n",
        "        return x\n",
        "\n",
        "\n",
        "# (datasetのクラスを自作したので，このあたりの処理が少し変わっています)\n",
        "\n",
        "zca = ZCAWhitening()\n",
        "zca.fit(trainval_data)\n",
        "\n",
        "val_size = 3000\n",
        "train_data, val_data = torch.utils.data.random_split(trainval_data, [len(trainval_data)-val_size, val_size])  # 訓練データと検証データに分割\n",
        "\n",
        "\n",
        "# 前処理を定義\n",
        "transform_train = transforms.Compose([\n",
        "    transforms.RandomHorizontalFlip(),  # randomly flip and rotate\n",
        "    transforms.RandomRotation(10),\n",
        "    transforms.ToTensor(),\n",
        "    gcn(),  # apply the global contrast normalization\n",
        "    zca  # apply ZCA Whitening\n",
        "])\n",
        "\n",
        "transform = transforms.Compose([\n",
        "    transforms.ToTensor(),\n",
        "    gcn(),  # apply the global contrast normalization\n",
        "    zca  # apply ZCA Whitening\n",
        "])\n",
        "\n",
        "# データセットに前処理を設定\n",
        "trainval_data.transform = transform_train\n",
        "test_data.transform = transform\n",
        "\n",
        "batch_size = 64\n",
        "\n",
        "dataloader_train = torch.utils.data.DataLoader(\n",
        "    train_data,\n",
        "    batch_size=batch_size,\n",
        "    shuffle=True\n",
        ")\n",
        "\n",
        "dataloader_valid = torch.utils.data.DataLoader(\n",
        "    val_data,\n",
        "    batch_size=batch_size,\n",
        "    shuffle=True\n",
        ")\n",
        "\n",
        "dataloader_test = torch.utils.data.DataLoader(\n",
        "    test_data,\n",
        "    batch_size=batch_size,\n",
        "    shuffle=False\n",
        ")\n"
      ],
      "execution_count": null,
      "outputs": [
        {
          "output_type": "stream",
          "name": "stdout",
          "text": [
            "0/50000\n",
            "10000/50000\n",
            "20000/50000\n",
            "30000/50000\n",
            "40000/50000\n",
            "completed!\n"
          ]
        }
      ]
    },
    {
      "cell_type": "code",
      "source": [],
      "metadata": {
        "id": "xGIXefTMz42r"
      },
      "execution_count": null,
      "outputs": []
    },
    {
      "cell_type": "code",
      "source": [
        "import torch.nn as nn\n",
        "class Conv(nn.Module):\n",
        "    def __init__(self, filter_shape, function=lambda x: x, stride=(1, 1), padding=0):\n",
        "        super().__init__()\n",
        "        # Heの初期化\n",
        "        # filter_shape: (出力チャンネル数)x(入力チャンネル数)x(縦の次元数)x(横の次元数)\n",
        "        fan_in = filter_shape[1] * filter_shape[2] * filter_shape[3]\n",
        "        fan_out = filter_shape[0] * filter_shape[2] * filter_shape[3]\n",
        "\n",
        "        self.W = nn.Parameter(torch.tensor(rng.normal(\n",
        "                        0,\n",
        "                        np.sqrt(2/fan_in),\n",
        "                        size=filter_shape\n",
        "                    ).astype('float32')))\n",
        "\n",
        "        # バイアスはフィルタごとなので, 出力フィルタ数と同じ次元数\n",
        "        self.b = nn.Parameter(torch.tensor(np.zeros((filter_shape[0]), dtype='float32')))\n",
        "\n",
        "        self.function = function  # 活性化関数\n",
        "        self.stride = stride  # ストライド幅\n",
        "        self.padding = padding  # パディング\n",
        "\n",
        "    def forward(self, x):\n",
        "        u = F.conv2d(x, self.W, bias=self.b, stride=self.stride, padding=self.padding)\n",
        "        return self.function(u)\n",
        "\n",
        "class Pooling(nn.Module):\n",
        "    def __init__(self, ksize=(2, 2), stride=(2, 2), padding=0):\n",
        "        super().__init__()\n",
        "        self.ksize = ksize  # カーネルサイズ\n",
        "        self.stride = stride  # ストライド幅\n",
        "        self.padding = padding  # パディング\n",
        "\n",
        "    def forward(self, x):\n",
        "        return F.avg_pool2d(x, kernel_size=self.ksize, stride=self.stride, padding=self.padding)\n",
        "        \n",
        "class BatchNorm(nn.Module):\n",
        "    def __init__(self, shape, epsilon=np.float32(1e-5)):\n",
        "        super().__init__()\n",
        "        self.gamma = nn.Parameter(torch.tensor(np.ones(shape, dtype='float32')))\n",
        "        self.beta = nn.Parameter(torch.tensor(np.zeros(shape, dtype='float32')))\n",
        "        self.epsilon = epsilon\n",
        "\n",
        "    def forward(self, x):\n",
        "        mean = torch.mean(x, (0, 2, 3), keepdim=True)  # WRITE ME\n",
        "        std = torch.std(x, (0, 2, 3), keepdim=True)  # WRITE ME\n",
        "        x_normalized = (x - mean) / (std**2 + self.epsilon)**0.5  # WRITE ME\n",
        "        return self.gamma * x_normalized + self.beta  # WRITE ME\n",
        "\n",
        "class Flatten(nn.Module):\n",
        "    def __init__(self):\n",
        "        super().__init__()\n",
        "\n",
        "    def forward(self, x):\n",
        "        return x.view(x.size()[0], -1)\n",
        "\n",
        "class Dense(nn.Module):\n",
        "    def __init__(self, in_dim, out_dim, function=lambda x: x):\n",
        "        super().__init__()\n",
        "        # Heの初期化\n",
        "        # in_dim: 入力の次元数，out_dim: 出力の次元数\n",
        "               \n",
        "        self.W = nn.Parameter(torch.tensor(rng.normal(\n",
        "                        0,\n",
        "                        np.sqrt(2/in_dim),\n",
        "                        size=(in_dim, out_dim)\n",
        "                    ).astype('float32')))\n",
        "\n",
        "        self.b = nn.Parameter(torch.tensor(np.zeros([out_dim]).astype('float32')))\n",
        "        self.function = function\n",
        "\n",
        "    def forward(self, x):\n",
        "        return self.function(torch.matmul(x, self.W) + self.b)\n",
        "\n",
        "class Activation(nn.Module):\n",
        "    def __init__(self, function=lambda x: x):\n",
        "        super().__init__()\n",
        "        self.function = function\n",
        "\n",
        "    def __call__(self, x):\n",
        "        return self.function(x)"
      ],
      "metadata": {
        "id": "YalB74Grz4Gf"
      },
      "execution_count": null,
      "outputs": []
    },
    {
      "cell_type": "code",
      "metadata": {
        "id": "PADQiKNa2snb"
      },
      "source": [
        "import torch.optim as optim\n",
        "import torch.autograd as autograd\n",
        "import torch.nn.functional as F\n",
        "\n",
        "rng = np.random.RandomState(1234)\n",
        "random_state = 42\n",
        "device = torch.device(\"cuda\" if torch.cuda.is_available() else \"cpu\")\n",
        "\n",
        "\n",
        "conv_net = nn.Sequential(\n",
        "    Conv((32, 3, 3, 3)),        # 画像の大きさ：32x32x3 -> 30x30x32  # WRITE ME(入出力の画像サイズ）\n",
        "    BatchNorm((32, 30, 30)),\n",
        "    Activation(F.relu),\n",
        "    Pooling((2, 2)),            # 30x30x32 -> 15x15x32  # WRITE ME(入出力の画像サイズ）\n",
        "    Conv((64, 32, 3, 3)),       # 15x15x32 -> 13x13x64  # WRITE ME(入出力の画像サイズ）\n",
        "    BatchNorm((64, 13, 13)),\n",
        "    Activation(F.relu),\n",
        "    Pooling((2, 2)),            # 13x13x64 -> 6x6x64  # WRITE ME(入出力の画像サイズ）\n",
        "    Conv((128, 64, 3, 3)),      # 6x6x64 -> 4x4x128  # WRITE ME(入出力の画像サイズ）\n",
        "    BatchNorm((128, 4, 4)),\n",
        "    Activation(F.relu),\n",
        "    Pooling((2, 2)),            # 4x4x128 -> 2x2x128  # WRITE ME(入出力の画像サイズ）\n",
        "    Flatten(),\n",
        "    Dense(2*2*128, 256, F.relu),  # WRITE ME(in_features)\n",
        "    Dense(256, 10)\n",
        ")\n",
        "\n",
        "\n",
        "\n",
        "def init_weights(m):  # Heの初期化\n",
        "    if type(m) == nn.Linear or type(m) == nn.Conv2d:\n",
        "        torch.nn.init.kaiming_normal_(m.weight)\n",
        "        m.bias.data.fill_(0.0)\n",
        "\n",
        "\n",
        "conv_net.apply(init_weights)\n",
        "\n",
        "\n",
        "n_epochs = 50\n",
        "lr = 0.0005\n",
        "device = 'cuda'\n",
        "\n",
        "conv_net.to(device)\n",
        "optimizer = optim.Adam(conv_net.parameters(), lr=lr)\n",
        "loss_function = loss_function = nn.CrossEntropyLoss()"
      ],
      "execution_count": null,
      "outputs": []
    },
    {
      "cell_type": "code",
      "metadata": {
        "id": "nlOZuLu-328i",
        "colab": {
          "base_uri": "https://localhost:8080/"
        },
        "outputId": "b162e252-51d5-47f2-8f75-96eb175ab269"
      },
      "source": [
        "best_valid_acc = 0.0  # 最高の検証精度を保存するための変数を初期化\n",
        "for epoch in range(n_epochs):\n",
        "    losses_train = []\n",
        "    losses_valid = []\n",
        "\n",
        "    conv_net.train()\n",
        "    n_train = 0\n",
        "    acc_train = 0\n",
        "    for x, t in dataloader_train:\n",
        "        n_train += t.size()[0]\n",
        "\n",
        "        conv_net.zero_grad()  # 勾配の初期化\n",
        "\n",
        "        x = x.to(device)  # テンソルをGPUに移動\n",
        "\n",
        "        t_hot = torch.eye(10)[t]  # 正解ラベルをone-hot vector化\n",
        "\n",
        "        t = t.to(device)\n",
        "        t_hot = t_hot.to(device)  # 正解ラベルとone-hot vectorをそれぞれGPUに移動\n",
        "\n",
        "        y = conv_net.forward(x)  # 順伝播\n",
        "\n",
        "        loss = -(t_hot*torch.log_softmax(y, dim=-1)).sum(axis=1).mean()  # 誤差(クロスエントロピー誤差関数)の計算\n",
        "\n",
        "        loss.backward()  # 誤差の逆伝播\n",
        "\n",
        "        optimizer.step()  # パラメータの更新\n",
        "\n",
        "        pred = y.argmax(1)  # 最大値を取るラベルを予測ラベルとする\n",
        "\n",
        "        acc_train += (pred == t).float().sum().item()\n",
        "        losses_train.append(loss.tolist())\n",
        "\n",
        "    conv_net.eval()\n",
        "    n_val = 0\n",
        "    acc_val = 0\n",
        "    for x, t in dataloader_valid:\n",
        "        # WRITE ME\n",
        "\n",
        "        n_val += t.size()[0]\n",
        "\n",
        "        x = x.to(device)  # テンソルをGPUに移動\n",
        "\n",
        "        t_hot = torch.eye(10)[t]  # 正解ラベルをone-hot vector化\n",
        "\n",
        "        t = t.to(device)\n",
        "        t_hot = t_hot.to(device)  # 正解ラベルとone-hot vectorをそれぞれGPUに移動\n",
        "\n",
        "        y = conv_net.forward(x)  # 順伝播\n",
        "\n",
        "        loss = -(t_hot*torch.log_softmax(y, dim=-1)).sum(axis=1).mean()  # 誤差(クロスエントロピー誤差関数)の計算\n",
        "\n",
        "        pred = y.argmax(1)  # 最大値を取るラベルを予測ラベルとする\n",
        "\n",
        "        acc_val += (pred == t).float().sum().item()\n",
        "        losses_valid.append(loss.tolist())\n",
        "\n",
        "\n",
        "    acc_valval = acc_val / n_val\n",
        "    if acc_valval > best_valid_acc:\n",
        "      best_valid_acc = acc_val\n",
        "      conv_net.eval()\n",
        "\n",
        "      t_pred = []\n",
        "      for x in dataloader_test:\n",
        "\n",
        "          x = x.to(device)\n",
        "\n",
        "          # 順伝播\n",
        "          y = conv_net.forward(x)\n",
        "\n",
        "          # モデルの出力を予測値のスカラーに変換\n",
        "          pred = y.argmax(1).tolist()\n",
        "\n",
        "          t_pred.extend(pred)\n",
        "\n",
        "      submission = pd.Series(t_pred, name='label')\n",
        "      submission.to_csv('drive/MyDrive/Colab Notebooks/DLBasics2023_colab/Lecture05/submission_pre.csv', header=True, index_label='id')\n",
        "\n",
        "      print('EPOCH: {}, Train [Loss: {:.3f}, Accuracy: {:.3f}], Valid [Loss: {:.3f}, Accuracy: {:.3f}]'.format(\n",
        "          epoch,\n",
        "          np.mean(losses_train),\n",
        "          acc_train/n_train,\n",
        "          np.mean(losses_valid),\n",
        "          acc_val/n_val\n",
        "      ))"
      ],
      "execution_count": null,
      "outputs": [
        {
          "output_type": "stream",
          "name": "stdout",
          "text": [
            "EPOCH: 0, Train [Loss: 1.411, Accuracy: 0.505], Valid [Loss: 1.130, Accuracy: 0.597]\n"
          ]
        }
      ]
    },
    {
      "cell_type": "code",
      "metadata": {
        "id": "73f8DjqTCoTL"
      },
      "source": [],
      "execution_count": null,
      "outputs": []
    }
  ]
}